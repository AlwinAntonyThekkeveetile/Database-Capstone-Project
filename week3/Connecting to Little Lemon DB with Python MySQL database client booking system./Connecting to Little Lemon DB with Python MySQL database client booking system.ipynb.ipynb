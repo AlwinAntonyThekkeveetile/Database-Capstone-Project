{
 "cells": [
  {
   "cell_type": "code",
   "execution_count": 17,
   "id": "af9db59d-da1a-44e9-bf62-a682d84c846f",
   "metadata": {},
   "outputs": [
    {
     "name": "stdout",
     "output_type": "stream",
     "text": [
      "Defaulting to user installation because normal site-packages is not writeable\n",
      "Requirement already satisfied: mysql-connector-python in c:\\users\\hp\\appdata\\roaming\\python\\python312\\site-packages (8.4.0)\n",
      "Note: you may need to restart the kernel to use updated packages.\n"
     ]
    },
    {
     "name": "stderr",
     "output_type": "stream",
     "text": [
      "\n",
      "[notice] A new release of pip is available: 24.1.2 -> 24.2\n",
      "[notice] To update, run: python.exe -m pip install --upgrade pip\n"
     ]
    }
   ],
   "source": [
    "pip install mysql-connector-python"
   ]
  },
  {
   "cell_type": "code",
   "execution_count": 18,
   "id": "a6300229-ee8a-4dd4-b7ef-d66782fdf64f",
   "metadata": {},
   "outputs": [],
   "source": [
    "import mysql.connector as connector"
   ]
  },
  {
   "cell_type": "code",
   "execution_count": 19,
   "id": "1207af5f-a1f6-488a-a094-0a78d13f4c35",
   "metadata": {},
   "outputs": [],
   "source": [
    "connection = connector.connect(user = \"alwin\", password = \"231200\" ,db=\" littlelemondm\")"
   ]
  },
  {
   "cell_type": "code",
   "execution_count": 20,
   "id": "887b5782-19b2-415b-98e1-01390f75f281",
   "metadata": {},
   "outputs": [],
   "source": [
    "cursor = connection.cursor()"
   ]
  },
  {
   "cell_type": "code",
   "execution_count": 21,
   "id": "472482c2-654f-441a-87e1-fdfd48a3b92f",
   "metadata": {},
   "outputs": [],
   "source": [
    "cursor.execute(\"USE littlelemondm\")"
   ]
  },
  {
   "cell_type": "code",
   "execution_count": 22,
   "id": "bb274f9e-45a9-47b8-b37f-73bf0d63224e",
   "metadata": {},
   "outputs": [],
   "source": [
    "show_tables_query = \"SHOW tables\" \n",
    "cursor.execute(show_tables_query)\n",
    "results = cursor.fetchall()"
   ]
  },
  {
   "cell_type": "code",
   "execution_count": 23,
   "id": "99c4dca8-2a45-47f3-9059-6e9dd851a3a6",
   "metadata": {},
   "outputs": [
    {
     "name": "stdout",
     "output_type": "stream",
     "text": [
      "('bookings',)\n",
      "('customers',)\n",
      "('menu',)\n",
      "('menuitems',)\n",
      "('order delivery status',)\n",
      "('orders',)\n",
      "('ordersview',)\n",
      "('staff info',)\n"
     ]
    }
   ],
   "source": [
    "for row in results:\n",
    "    print(row)"
   ]
  },
  {
   "cell_type": "code",
   "execution_count": 24,
   "id": "9fb1b3a0-1fc1-4cd0-a29a-8f8a9a748259",
   "metadata": {},
   "outputs": [],
   "source": [
    "query = \"\"\"\n",
    "SELECT customers.FullName, customers.ContactNumber, orders.TotalCost\n",
    "FROM orders\n",
    "JOIN customers ON orders.CustomerID = customers.CustomerID\n",
    "WHERE orders.TotalCost > 60;\n",
    "\"\"\""
   ]
  },
  {
   "cell_type": "code",
   "execution_count": 25,
   "id": "3924e476-3e21-4644-8497-707838d68de3",
   "metadata": {},
   "outputs": [],
   "source": [
    "cursor.execute(query)\n",
    "results = cursor.fetchall()"
   ]
  },
  {
   "cell_type": "code",
   "execution_count": 26,
   "id": "08436889-38fa-4a15-bb21-c1999db427c6",
   "metadata": {},
   "outputs": [
    {
     "name": "stdout",
     "output_type": "stream",
     "text": [
      "('FullName', 'ContactNumber', 'TotalCost')\n",
      "('Elizabeth Antony', 1234567893, Decimal('233.00'))\n",
      "('Philomena Francis', 1234567895, Decimal('245.00'))\n",
      "('Francis', 1234567896, Decimal('560.00'))\n"
     ]
    }
   ],
   "source": [
    "# Printing results\n",
    "print(cursor.column_names)\n",
    "for row in results:\n",
    "    print(row)"
   ]
  },
  {
   "cell_type": "code",
   "execution_count": 27,
   "id": "5cdcab7b-6cf3-467c-94b9-651fd6f1c437",
   "metadata": {},
   "outputs": [],
   "source": [
    "cursor.close()\n",
    "connection.close()"
   ]
  },
  {
   "cell_type": "code",
   "execution_count": null,
   "id": "437f091d-5ea1-475f-8602-1ed32039be40",
   "metadata": {},
   "outputs": [],
   "source": []
  }
 ],
 "metadata": {
  "kernelspec": {
   "display_name": "Python 3 (ipykernel)",
   "language": "python",
   "name": "python3"
  },
  "language_info": {
   "codemirror_mode": {
    "name": "ipython",
    "version": 3
   },
   "file_extension": ".py",
   "mimetype": "text/x-python",
   "name": "python",
   "nbconvert_exporter": "python",
   "pygments_lexer": "ipython3",
   "version": "3.12.3"
  }
 },
 "nbformat": 4,
 "nbformat_minor": 5
}
